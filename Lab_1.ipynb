{
  "nbformat": 4,
  "nbformat_minor": 0,
  "metadata": {
    "colab": {
      "provenance": []
    },
    "kernelspec": {
      "name": "python3",
      "display_name": "Python 3"
    },
    "language_info": {
      "name": "python"
    }
  },
  "cells": [
    {
      "cell_type": "code",
      "execution_count": 29,
      "metadata": {
        "id": "Oh_lrrb_aD2g"
      },
      "outputs": [],
      "source": [
        "\n",
        "\"\"\"\n",
        "CMPS 6100  Lab 1\n",
        "Author: \n",
        "\"\"\"\n",
        "\n",
        "### the only imports needed are here\n",
        "import tabulate\n",
        "import time\n",
        "###\n",
        "\n",
        "def linear_search(mylist, key):\n",
        "    \"\"\" done. \"\"\"\n",
        "    for i,v in enumerate(mylist):\n",
        "        if v == key:\n",
        "            return i\n",
        "    return -1\n",
        "\n",
        "def test_linear_search():\n",
        "    \"\"\" done. \"\"\"\n",
        "    assert linear_search([1,2,3,4,5], 5) == 4\n",
        "    assert linear_search([1,2,3,4,5], 1) == 0\n",
        "    assert linear_search([1,2,3,4,5], 6) == -1\n",
        "\n",
        "def binary_search(mylist, key):\n",
        "    \"\"\" done. \"\"\"\n",
        "    return _binary_search(mylist, key, 0, len(mylist)-1)\n",
        "\n",
        "def _binary_search(mylist, key, left, right):\n",
        "    # print(f\"{left} to {right}\")\n",
        "    \"\"\"\n",
        "    Recursive implementation of binary search.\n",
        "    Params:\n",
        "      mylist....list to search\n",
        "      key.......search key\n",
        "      left......left index into list to search\n",
        "      right.....right index into list to search\n",
        "    Returns:\n",
        "      index of key in mylist, or -1 if not present.\n",
        "    \"\"\"\n",
        "    if left > right :\n",
        "      return -1\n",
        "    mid=(left+right)//2\n",
        "    # print(f\"mid: {mid}\")\n",
        "    if mylist[mid]==key:\n",
        "      return mid \n",
        "    elif mylist[mid]<key:\n",
        "      return _binary_search(mylist,key,mid+1,right)\n",
        "    else:\n",
        "      return _binary_search(mylist,key,left,mid-1)\n",
        "\n",
        "def test_binary_search():\n",
        "    assert binary_search([1,2,3,4,5], 5) == 4\n",
        "    assert binary_search([1,2,3,4,5], 1) == 0\n",
        "    assert binary_search([1,2,3,4,5], 6) == -1\n",
        "    assert binary_search([2,4,6,8,10,12,14],7)== -1\n",
        "    assert binary_search([10,20,30,40,50,60,70],30)==2\n",
        "\n",
        "\n",
        "def time_search(search_fn, mylist, key):\n",
        "    \"\"\"\n",
        "    Return the number of milliseconds to run this\n",
        "    search function on this list.\n",
        "    Note 1: `sort_fn` parameter is a function.\n",
        "    Note 2: time.time() returns the current time in seconds. \n",
        "    You'll have to multiple by 1000 to get milliseconds.\n",
        "    Params:\n",
        "      sort_fn.....the search function\n",
        "      mylist......the list to search\n",
        "      key.........the search key \n",
        "    Returns:\n",
        "      the number of milliseconds it takes to run this\n",
        "      search function on this input.\n",
        "    \"\"\"\n",
        "    ### TODO\n",
        "    st = time.time() * 1000\n",
        "    search_fn(mylist, key)\n",
        "    et = time.time() * 1000\n",
        "    return et - st\n",
        "    pass\n",
        "\n",
        "def compare_search(sizes=[1e1, 1e2, 1e3, 1e4, 1e5, 1e6, 1e7]):\n",
        "    \"\"\"\n",
        "    Compare the running time of linear_search and binary_search\n",
        "    for input sizes as given. The key for each search should be\n",
        "    -1. The list to search for each size contains the numbers from 0 to n-1,\n",
        "    sorted in ascending order. \n",
        "    You'll use the time_search function to time each call.\n",
        "    Returns:\n",
        "      A list of tuples of the form\n",
        "      (n, linear_search_time, binary_search_time)\n",
        "      indicating the number of milliseconds it takes\n",
        "      for each method to run on each value of n\n",
        "    \"\"\"\n",
        "    ### TODO\n",
        "    time_result = []\n",
        "    for n in sizes:\n",
        "      linear_search_time = time_search(linear_search, range(int(n)), -1)\n",
        "      binary_search_time = time_search(binary_search, range(int(n)), -1)\n",
        "      time_result.append((n, linear_search_time, binary_search_time))\n",
        "\n",
        "    return time_result\n",
        "    pass\n",
        "\n",
        "def print_results(results):\n",
        "    \"\"\" done \"\"\"\n",
        "    print(tabulate.tabulate(results,\n",
        "        headers=['n', 'linear', 'binary'],\n",
        "        floatfmt=\".3f\",\n",
        "        tablefmt=\"github\"))\n",
        "\n",
        "def test_compare_search():\n",
        "    res = compare_search(sizes=[10, 100])\n",
        "    print(res)\n",
        "    assert res[0][0] == 10\n",
        "    assert res[1][0] == 100\n",
        "    assert res[0][1] < 1\n",
        "    assert res[1][1] < 1\n"
      ]
    },
    {
      "cell_type": "code",
      "source": [
        "test_linear_search()"
      ],
      "metadata": {
        "id": "8xOpsBWRbH3F"
      },
      "execution_count": 6,
      "outputs": []
    },
    {
      "cell_type": "code",
      "source": [
        "test_binary_search()"
      ],
      "metadata": {
        "colab": {
          "base_uri": "https://localhost:8080/"
        },
        "id": "Q9oU0SILh0eC",
        "outputId": "a6ca5d59-807d-421e-d66e-e92757376f4d"
      },
      "execution_count": 14,
      "outputs": [
        {
          "output_type": "stream",
          "name": "stdout",
          "text": [
            "0 to 4\n",
            "mid: 2\n",
            "3 to 4\n",
            "mid: 3\n",
            "4 to 4\n",
            "mid: 4\n",
            "0 to 4\n",
            "mid: 2\n",
            "0 to 1\n",
            "mid: 0\n",
            "0 to 4\n",
            "mid: 2\n",
            "3 to 4\n",
            "mid: 3\n",
            "4 to 4\n",
            "mid: 4\n",
            "5 to 4\n",
            "0 to 6\n",
            "mid: 3\n",
            "0 to 2\n",
            "mid: 1\n",
            "2 to 2\n",
            "mid: 2\n",
            "3 to 2\n",
            "0 to 6\n",
            "mid: 3\n",
            "0 to 2\n",
            "mid: 1\n",
            "2 to 2\n",
            "mid: 2\n"
          ]
        }
      ]
    },
    {
      "cell_type": "markdown",
      "source": [
        "### question 4\n",
        "worst case of linear search\n",
        "- if the key is not presented in the list \n",
        "\n",
        "\n",
        "worst case of binary search \n",
        "- if the key is not present in the list \n",
        "\n",
        "\n",
        "### question 5\n",
        "best case of linear search\n",
        "- if the key is present in the first index\n",
        "\n",
        "best case of binary search\n",
        "- if the key is in the middle of the list \n",
        "\n",
        "\n"
      ],
      "metadata": {
        "id": "C7VRBc3lmTFh"
      }
    },
    {
      "cell_type": "code",
      "source": [
        "print_results(compare_search()) "
      ],
      "metadata": {
        "colab": {
          "base_uri": "https://localhost:8080/"
        },
        "id": "qGh9umb0xuaH",
        "outputId": "cfb71682-78d3-4cca-ef76-20aae2270038"
      },
      "execution_count": 30,
      "outputs": [
        {
          "output_type": "stream",
          "name": "stdout",
          "text": [
            "|            n |   linear |   binary |\n",
            "|--------------|----------|----------|\n",
            "|       10.000 |    0.004 |    0.009 |\n",
            "|      100.000 |    0.012 |    0.006 |\n",
            "|     1000.000 |    0.151 |    0.019 |\n",
            "|    10000.000 |    1.549 |    0.021 |\n",
            "|   100000.000 |   11.081 |    0.018 |\n",
            "|  1000000.000 |   87.398 |    0.044 |\n",
            "| 10000000.000 |  861.352 |    0.026 |\n"
          ]
        }
      ]
    }
  ]
}